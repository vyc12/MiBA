{
 "cells": [
  {
   "cell_type": "markdown",
   "metadata": {
    "id": "GPyzo4JFCwQJ"
   },
   "source": [
    "# Exercises\n",
    "\n",
    "\n",
    "\n"
   ]
  },
  {
   "cell_type": "markdown",
   "metadata": {
    "id": "Mn9AGx-SsD-p"
   },
   "source": [
    "<div class=\"alert alert-info\"><b>Exercise 1: Print a Greeting</b>\n",
    "\n",
    "1. Write a Python program that prints a greeting message, such as \"Hello, Python!\"\n",
    "</div>\n",
    "\n",
    " "
   ]
  },
  {
   "cell_type": "code",
   "execution_count": 1,
   "metadata": {
    "id": "74CzxlJ7sEir"
   },
   "outputs": [
    {
     "name": "stdout",
     "output_type": "stream",
     "text": [
      "Hello, Python!\n"
     ]
    }
   ],
   "source": [
    "# Print the greeting\n",
    "print(\"Hello, Python!\")"
   ]
  },
  {
   "cell_type": "markdown",
   "metadata": {
    "id": "s22xLyTjzeGj"
   },
   "source": [
    "<div class=\"alert alert-info\"><b>Exercise 2: Basic Arithmetic</b>\n",
    "\n",
    "Create a program that:\n",
    "1. Defines two variables, a and b, with numerical values.\n",
    "2. Prints their sum, difference, product, and quotient.\n",
    "</div>"
   ]
  },
  {
   "cell_type": "code",
   "execution_count": 3,
   "metadata": {
    "id": "55uyjZv6ze-w"
   },
   "outputs": [
    {
     "name": "stdout",
     "output_type": "stream",
     "text": [
      "Sum of 12 and 3 is: 15\n",
      "Difference between 12 and 3 is: 9\n",
      "Product of 12 and 3 is: 36\n",
      "Quotient of 12 divided by 3 is: 4.0\n"
     ]
    }
   ],
   "source": [
    "# Define two variables with numerical values\n",
    "a = 12\n",
    "b = 3\n",
    "\n",
    "# Calculate and print the sum\n",
    "sum_result = a + b\n",
    "print(f\"Sum of {a} and {b} is: {sum_result}\")\n",
    "\n",
    "# Calculate and print the difference\n",
    "difference = a - b\n",
    "print(f\"Difference between {a} and {b} is: {difference}\")\n",
    "\n",
    "# Calculate and print the product\n",
    "product = a * b\n",
    "print(f\"Product of {a} and {b} is: {product}\")\n",
    "\n",
    "# Calculate and print the quotient\n",
    "quotient = a / b\n",
    "print(f\"Quotient of {a} divided by {b} is: {quotient}\")"
   ]
  },
  {
   "cell_type": "markdown",
   "metadata": {
    "id": "eDrD3i7OL8zv"
   },
   "source": [
    "<div class=\"alert alert-info\"><b>Exercise 3: String Manipulation</b>\n",
    "\n",
    "1. Define a variable name and assign it your name. Write a program that prints a message saying\n",
    "\"Hello, [name]!\" where [name] is the value of the variable\n",
    "</div>"
   ]
  },
  {
   "cell_type": "code",
   "execution_count": 4,
   "metadata": {
    "colab": {
     "base_uri": "https://localhost:8080/",
     "height": 133
    },
    "id": "HMGqZbd-MNUA",
    "outputId": "8b9fd294-7203-4d5e-8fd6-6e1c8f0c0815"
   },
   "outputs": [
    {
     "name": "stdout",
     "output_type": "stream",
     "text": [
      "Hello, Victor!\n"
     ]
    }
   ],
   "source": [
    "name = \"Victor\"\n",
    "print(f\"Hello, {name}!\")"
   ]
  },
  {
   "cell_type": "markdown",
   "metadata": {
    "id": "WHr2arD4MLTZ"
   },
   "source": [
    "<div class=\"alert alert-info\"><b>Exercise 4: Lists</b>\n",
    "\n",
    "● Create a list called universities with at least five different university names.\n",
    "\n",
    "● Print the entire list.\n",
    "\n",
    "● Print the first and last university in the list.\n",
    "</div>"
   ]
  },
  {
   "cell_type": "code",
   "execution_count": 5,
   "metadata": {
    "id": "OwHMgXu6B6Bu"
   },
   "outputs": [],
   "source": [
    "universities = (\"esade\", \"MIT\", \"UCLA\", \"IE\", \"THU\")"
   ]
  },
  {
   "cell_type": "code",
   "execution_count": 6,
   "metadata": {},
   "outputs": [
    {
     "name": "stdout",
     "output_type": "stream",
     "text": [
      "('esade', 'MIT', 'UCLA', 'IE', 'THU')\n"
     ]
    }
   ],
   "source": [
    "print(universities)"
   ]
  },
  {
   "cell_type": "code",
   "execution_count": 8,
   "metadata": {},
   "outputs": [
    {
     "name": "stdout",
     "output_type": "stream",
     "text": [
      "esade THU\n"
     ]
    }
   ],
   "source": [
    "print(universities[0], universities[-1])"
   ]
  },
  {
   "cell_type": "markdown",
   "metadata": {
    "id": "IPDLo_wtznoh"
   },
   "source": [
    "<div class=\"alert alert-info\"><b>Exercise 5: Dictionaries</b>\n",
    "\n",
    "● Create a dictionary called student with keys: name, age, and grade, and assign appropriate\n",
    "values to each key.\n",
    "\n",
    "● Write a program that prints each key-value pair in the dictionary\n",
    "</div>"
   ]
  },
  {
   "cell_type": "code",
   "execution_count": 9,
   "metadata": {
    "id": "JulDYVD_zqla"
   },
   "outputs": [
    {
     "name": "stdout",
     "output_type": "stream",
     "text": [
      "Student Information:\n",
      "Name: Alice Johnson\n",
      "Age: 20\n",
      "Grade: A\n"
     ]
    }
   ],
   "source": [
    "# Create a dictionary called student with keys\n",
    "student = {\n",
    "    \"name\": \"Alice Johnson\",\n",
    "    \"age\": 20,\n",
    "    \"grade\": \"A\"\n",
    "}\n",
    "\n",
    "# Print each key-value pair in the dictionary\n",
    "print(\"Student Information:\")\n",
    "for key, value in student.items():\n",
    "    print(f\"{key.capitalize()}: {value}\")"
   ]
  },
  {
   "cell_type": "markdown",
   "metadata": {
    "id": "-pvPzbcJxCWT"
   },
   "source": [
    "<div class=\"alert alert-info\"><b>Exercise 6: Tuples</b>\n",
    "\n",
    "1. Define a tuple called coordinates with two values representing a point in 2D space (e.g., (x, y)).\n",
    "2. Print the value of coordinates and access each element by its index.\n",
    "\n",
    "</div>"
   ]
  },
  {
   "cell_type": "code",
   "execution_count": 10,
   "metadata": {
    "id": "RpTjcRrtxORx"
   },
   "outputs": [
    {
     "name": "stdout",
     "output_type": "stream",
     "text": [
      "Coordinates: (3, 7)\n",
      "x-coordinate: 3\n",
      "y-coordinate: 7\n"
     ]
    }
   ],
   "source": [
    "# Define a tuple called coordinates\n",
    "coordinates = (3, 7)\n",
    "\n",
    "# Print the entire tuple\n",
    "print(\"Coordinates:\", coordinates)\n",
    "\n",
    "# Access and print each element by its index\n",
    "print(\"x-coordinate:\", coordinates[0])\n",
    "print(\"y-coordinate:\", coordinates[1])"
   ]
  },
  {
   "cell_type": "markdown",
   "metadata": {
    "id": "0-eUhZlTxzLl"
   },
   "source": [
    "<div class=\"alert alert-info\"><b>Exercise 7: Sets</b>\n",
    "\n",
    "1. Create a set called colors with the values: \"red\", \"green\", \"blue\".\n",
    "2. Add another color to the set.\n",
    "3. Try adding a duplicate color and observe what happens.\n",
    "4. Print the set and remove one color from it.\n",
    "5. Create another set named light_colors and merge colors and light_colors.\n",
    "</div>"
   ]
  },
  {
   "cell_type": "code",
   "execution_count": 11,
   "metadata": {
    "id": "Nv4x7zZAx7Nl"
   },
   "outputs": [
    {
     "name": "stdout",
     "output_type": "stream",
     "text": [
      "Initial set of colors: {'red', 'green', 'blue'}\n",
      "After adding yellow: {'yellow', 'red', 'green', 'blue'}\n",
      "After trying to add red again: {'yellow', 'red', 'green', 'blue'}\n",
      "Removed color: yellow\n",
      "Set after removing a color: {'red', 'green', 'blue'}\n",
      "Merged set of all colors: {'blue', 'pink', 'white', 'lavender', 'red', 'green'}\n"
     ]
    }
   ],
   "source": [
    "# Create a set called colors\n",
    "colors = {\"red\", \"green\", \"blue\"}\n",
    "\n",
    "# Print the initial set\n",
    "print(\"Initial set of colors:\", colors)\n",
    "\n",
    "# Add another color to the set\n",
    "colors.add(\"yellow\")\n",
    "print(\"After adding yellow:\", colors)\n",
    "\n",
    "# Try adding a duplicate color\n",
    "colors.add(\"red\")\n",
    "print(\"After trying to add red again:\", colors)\n",
    "\n",
    "# Remove one color from the set\n",
    "removed_color = colors.pop()\n",
    "print(f\"Removed color: {removed_color}\")\n",
    "print(\"Set after removing a color:\", colors)\n",
    "\n",
    "# Create another set named light_colors\n",
    "light_colors = {\"pink\", \"lavender\", \"white\"}\n",
    "\n",
    "# Merge colors and light_colors\n",
    "all_colors = colors.union(light_colors)\n",
    "print(\"Merged set of all colors:\", all_colors)"
   ]
  },
  {
   "cell_type": "markdown",
   "metadata": {
    "id": "kHP0wDKPx74Z"
   },
   "source": [
    "<div class=\"alert alert-info\"><b>Exercise 8: Conditional Statements</b>\n",
    "\n",
    "Write a program that:\n",
    "1. Takes an input number from the user.\n",
    "2. Checks if the number is positive, negative, or zero.\n",
    "3. Prints an appropriate message based on the result.\n",
    "\n",
    "</div>"
   ]
  },
  {
   "cell_type": "code",
   "execution_count": 12,
   "metadata": {
    "id": "Pb6YN-snyG3b"
   },
   "outputs": [
    {
     "name": "stdout",
     "output_type": "stream",
     "text": [
      "The number is positive.\n"
     ]
    }
   ],
   "source": [
    "# Get input from the user\n",
    "user_input = input(\"Please enter a number: \")\n",
    "\n",
    "try:\n",
    "    # Convert the input to a float\n",
    "    number = float(user_input)\n",
    "\n",
    "    # Check if the number is positive, negative, or zero\n",
    "    if number > 0:\n",
    "        print(\"The number is positive.\")\n",
    "    elif number < 0:\n",
    "        print(\"The number is negative.\")\n",
    "    else:\n",
    "        print(\"The number is zero.\")\n",
    "\n",
    "except ValueError:\n",
    "    print(\"Invalid input. Please enter a valid number.\")"
   ]
  },
  {
   "cell_type": "markdown",
   "metadata": {
    "id": "vJjYc2yf24c0"
   },
   "source": [
    "<div class=\"alert alert-info\"><b>Exercise 9: For Loop</b>\n",
    "\n",
    "1. Create a list of numbers from 1 to 5.\n",
    "2. Use a for loop to iterate through the list and print each number.\n",
    "</div>"
   ]
  },
  {
   "cell_type": "code",
   "execution_count": 14,
   "metadata": {
    "colab": {
     "base_uri": "https://localhost:8080/"
    },
    "id": "D_RM0H_c241a",
    "outputId": "dcde8683-e4a1-467e-d234-cfdd8e82e1a3"
   },
   "outputs": [
    {
     "name": "stdout",
     "output_type": "stream",
     "text": [
      "1\n",
      "2\n",
      "3\n",
      "4\n",
      "5\n"
     ]
    }
   ],
   "source": [
    "numbers = (1,2,3,4,5)\n",
    "for i in numbers:\n",
    "    print (i)"
   ]
  },
  {
   "cell_type": "markdown",
   "metadata": {
    "id": "ITen1o9h4cKv"
   },
   "source": [
    "<div class=\"alert alert-info\"><b>Exercise 10: While Loop</b>\n",
    "\n",
    "1. Write a program that uses a while loop to print numbers from 1 to 5.\n",
    "2. Ensure the loop terminates correctly.\n",
    "</div>"
   ]
  },
  {
   "cell_type": "code",
   "execution_count": 15,
   "metadata": {
    "id": "RLdoLSm93OPd"
   },
   "outputs": [
    {
     "name": "stdout",
     "output_type": "stream",
     "text": [
      "1\n",
      "2\n",
      "3\n",
      "4\n",
      "5\n",
      "Loop has finished.\n"
     ]
    }
   ],
   "source": [
    "# Initialize the counter\n",
    "number = 1\n",
    "\n",
    "# Use a while loop to print numbers from 1 to 5\n",
    "while number <= 5:\n",
    "    print(number)\n",
    "    number += 1\n",
    "\n",
    "print(\"Loop has finished.\")"
   ]
  },
  {
   "cell_type": "markdown",
   "metadata": {},
   "source": [
    "<div class=\"alert alert-info\"><b>Exercise 11: Match Statement (Python 3.10+)</b>\n",
    "\n",
    "Write a program that:\n",
    "\n",
    "○ Asks the user to input a grade (e.g., \"A\", \"B\", \"C\", \"D\", or \"F\").\n",
    "\n",
    "○ Use a match statement to print a corresponding message for each grade:\n",
    " - \"A\": \"Excellent!\"\n",
    " - \"B\": \"Good job!\"\n",
    " - \"C\": \"Fair.\"\n",
    " - \"D\": \"Needs improvement.\"\n",
    " - \"F\": \"Failing.\"\n",
    "\n",
    "○ Handle invalid input by printing a default message\n",
    "</div>"
   ]
  },
  {
   "cell_type": "code",
   "execution_count": 20,
   "metadata": {},
   "outputs": [
    {
     "name": "stdout",
     "output_type": "stream",
     "text": [
      "Good job!\n"
     ]
    }
   ],
   "source": [
    "# Ask the user to input a grade\n",
    "grade = input(\"Please enter your grade (A, B, C, D, or F): \").upper()\n",
    "\n",
    "# Use a match statement to print a corresponding message for each grade\n",
    "match grade:\n",
    "    case \"A\":\n",
    "        print(\"Excellent!\")\n",
    "    case \"B\":\n",
    "        print(\"Good job!\")\n",
    "    case \"C\":\n",
    "        print(\"Fair.\")\n",
    "    case \"D\":\n",
    "        print(\"Needs improvement.\")\n",
    "    case \"F\":\n",
    "        print(\"Failing.\")\n",
    "    case _:\n",
    "        print(\"Invalid grade. Please enter A, B, C, D, or F.\")\n"
   ]
  },
  {
   "cell_type": "markdown",
   "metadata": {},
   "source": [
    "<div class=\"alert alert-info\"><b>Exercise 12: Define a Function</b>\n",
    "\n",
    "1. Write a function called greet that takes a name as an argument and prints \"Hello, [name]!\".\n",
    "2. Call the function with your own name.\n",
    "</div>"
   ]
  },
  {
   "cell_type": "code",
   "execution_count": 21,
   "metadata": {},
   "outputs": [
    {
     "name": "stdout",
     "output_type": "stream",
     "text": [
      "Hello, Victor!\n"
     ]
    }
   ],
   "source": [
    "# Define the greet function\n",
    "def greet(name):\n",
    "    print(f\"Hello, {name}!\")\n",
    "\n",
    "# Call the function with my name\n",
    "greet(\"Victor\")"
   ]
  },
  {
   "cell_type": "markdown",
   "metadata": {},
   "source": [
    "<div class=\"alert alert-info\"><b>Exercise 13: Function with Return Value</b>\n",
    "\n",
    "1. Define a function called square that takes a number as an argument and returns its square.\n",
    "2. Print the result of calling this function with different numbers.\n",
    "</div>"
   ]
  },
  {
   "cell_type": "code",
   "execution_count": 22,
   "metadata": {},
   "outputs": [
    {
     "name": "stdout",
     "output_type": "stream",
     "text": [
      "The square of 5 is: 25\n",
      "The square of 9 is: 81\n",
      "The square of 3.5 is: 12.25\n",
      "The square of 7 is: 49\n",
      "The square of (2 + 3) is: 25\n"
     ]
    }
   ],
   "source": [
    "# Define the square function\n",
    "def square(number):\n",
    "    return number ** 2\n",
    "\n",
    "# Test the function with different numbers\n",
    "print(f\"The square of 5 is: {square(5)}\")\n",
    "print(f\"The square of 9 is: {square(9)}\")\n",
    "print(f\"The square of 3.5 is: {square(3.5)}\")\n",
    "\n",
    "# You can also use variables\n",
    "num = 7\n",
    "result = square(num)\n",
    "print(f\"The square of {num} is: {result}\")\n",
    "\n",
    "# Using the function in an expression\n",
    "print(f\"The square of (2 + 3) is: {square(2 + 3)}\")"
   ]
  },
  {
   "cell_type": "markdown",
   "metadata": {},
   "source": [
    "<div class=\"alert alert-info\"><b>Exercise 14: Function with Default Parameters</b>\n",
    "\n",
    "1. Write a function called multiply that takes two parameters, a and b, and returns their product.\n",
    "Set a default value of 1 for the parameter b.\n",
    "2. Test the function with and without providing the second argument.\n",
    "</div>"
   ]
  },
  {
   "cell_type": "code",
   "execution_count": 24,
   "metadata": {},
   "outputs": [
    {
     "name": "stdout",
     "output_type": "stream",
     "text": [
      "Testing the multiply function:\n",
      "multiply(5, 3) = 15\n",
      "multiply(7) = 7\n",
      "multiply(a=6) = 6\n"
     ]
    }
   ],
   "source": [
    "# Define the multiply function with a default parameter\n",
    "def multiply(a, b=1):\n",
    "    return a * b\n",
    "\n",
    "# Test the function with and without providing the second argument\n",
    "print(\"Testing the multiply function:\")\n",
    "\n",
    "# Test 1: Providing both arguments\n",
    "result1 = multiply(5, 3)\n",
    "print(f\"multiply(5, 3) = {result1}\")\n",
    "\n",
    "# Test 2: Providing only the first argument\n",
    "result2 = multiply(7)\n",
    "print(f\"multiply(7) = {result2}\")\n",
    "\n",
    "# Test 5: Using the default parameter with a named argument\n",
    "result5 = multiply(a=6)\n",
    "print(f\"multiply(a=6) = {result5}\")"
   ]
  },
  {
   "cell_type": "markdown",
   "metadata": {},
   "source": [
    "<div class=\"alert alert-info\"><b>Exercise 15: List Comprehension</b>\n",
    "\n",
    "1. Create a list of numbers from 1 to 10.\n",
    "2. Use list comprehension to create a new list that contains the squares of these numbers.\n",
    "3. Print the new list\n",
    "</div>"
   ]
  },
  {
   "cell_type": "code",
   "execution_count": 25,
   "metadata": {},
   "outputs": [
    {
     "name": "stdout",
     "output_type": "stream",
     "text": [
      "Original numbers: [1, 2, 3, 4, 5, 6, 7, 8, 9, 10]\n",
      "Squared numbers: [1, 4, 9, 16, 25, 36, 49, 64, 81, 100]\n"
     ]
    }
   ],
   "source": [
    "# Create a list of numbers from 1 to 10\n",
    "numbers = list(range(1, 11))\n",
    "\n",
    "# Use list comprehension to create a new list of squares\n",
    "squares = [num ** 2 for num in numbers]\n",
    "\n",
    "# Print the original list and the new list of squares\n",
    "print(\"Original numbers:\", numbers)\n",
    "print(\"Squared numbers:\", squares)"
   ]
  },
  {
   "cell_type": "markdown",
   "metadata": {},
   "source": [
    "<div class=\"alert alert-info\"><b>Exercise 16: Nested Data Structures</b>\n",
    "\n",
    "1. Create a dictionary where the keys are names of students and the values are lists of their grades.\n",
    "2. Write a function that takes the dictionary and prints the average grade for each student.\n",
    "\n",
    "</div>"
   ]
  },
  {
   "cell_type": "code",
   "execution_count": 28,
   "metadata": {},
   "outputs": [
    {
     "name": "stdout",
     "output_type": "stream",
     "text": [
      "Average Grades:\n",
      "Victor: 93.75\n",
      "Bob: 81.25\n",
      "Charlie: 93.00\n",
      "David: 79.00\n",
      "Elsa: 89.00\n"
     ]
    }
   ],
   "source": [
    "# Create a dictionary of students and their grades\n",
    "students = {\n",
    "    \"Victor\": [95, 90, 92, 98],\n",
    "    \"Bob\": [78, 82, 80, 85],\n",
    "    \"Charlie\": [92, 95, 88, 97],\n",
    "    \"David\": [75, 80, 82, 79],\n",
    "    \"Elsa\": [88, 91, 87, 90]\n",
    "}\n",
    "\n",
    "def print_average_grades(student_grades):\n",
    "    print(\"Average Grades:\")\n",
    "    for student, grades in student_grades.items():\n",
    "        # Calculate the average grade\n",
    "        average = sum(grades) / len(grades)\n",
    "        # Print the result, formatted to 2 decimal places\n",
    "        print(f\"{student}: {average:.2f}\")\n",
    "\n",
    "# Call the function with our students dictionary\n",
    "print_average_grades(students)"
   ]
  },
  {
   "cell_type": "markdown",
   "metadata": {},
   "source": [
    "<div class=\"alert alert-info\"><b>Exercise 17: Simple Calculator</b>\n",
    "\n",
    "Write a program that:\n",
    "1. Defines a function calculate which takes three parameters: two numbers and an operator (+, -, *, /).\n",
    "2. Performs the operation and returns the result.\n",
    "3. Ask the user for the two numbers and the operator, then call the function and print the result.\n",
    "</div>"
   ]
  },
  {
   "cell_type": "code",
   "execution_count": 29,
   "metadata": {},
   "outputs": [
    {
     "name": "stdout",
     "output_type": "stream",
     "text": [
      "Simple Calculator\n",
      "----------------\n",
      "Result: 1.0\n"
     ]
    }
   ],
   "source": [
    "def calculate(num1, num2, operator):\n",
    "    \"\"\"\n",
    "    Performs the specified operation on two numbers and returns the result.\n",
    "    \"\"\"\n",
    "    if operator == '+':\n",
    "        return num1 + num2\n",
    "    elif operator == '-':\n",
    "        return num1 - num2\n",
    "    elif operator == '*':\n",
    "        return num1 * num2\n",
    "    elif operator == '/':\n",
    "        if num2 != 0:\n",
    "            return num1 / num2\n",
    "        else:\n",
    "            return \"Error: Division by zero\"\n",
    "    else:\n",
    "        return \"Error: Invalid operator\"\n",
    "\n",
    "# Main program\n",
    "print(\"Simple Calculator\")\n",
    "print(\"----------------\")\n",
    "\n",
    "# Get input from the user\n",
    "try:\n",
    "    num1 = float(input(\"Enter the first number: \"))\n",
    "    num2 = float(input(\"Enter the second number: \"))\n",
    "    operator = input(\"Enter the operator (+, -, *, /): \")\n",
    "\n",
    "    # Call the calculate function and print the result\n",
    "    result = calculate(num1, num2, operator)\n",
    "    print(f\"Result: {result}\")\n",
    "\n",
    "except ValueError:\n",
    "    print(\"Error: Please enter valid numbers.\")"
   ]
  }
 ],
 "metadata": {
  "colab": {
   "name": "[IS 2021 W2] Primitive Types.ipynb",
   "provenance": []
  },
  "kernelspec": {
   "display_name": "Python 3.12.4 ('base')",
   "language": "python",
   "name": "python3"
  },
  "language_info": {
   "codemirror_mode": {
    "name": "ipython",
    "version": 3
   },
   "file_extension": ".py",
   "mimetype": "text/x-python",
   "name": "python",
   "nbconvert_exporter": "python",
   "pygments_lexer": "ipython3",
   "version": "3.12.4"
  },
  "vscode": {
   "interpreter": {
    "hash": "5787d623a92c16dfc3edd63c861acc8b827f3e6cbbae1b1056777214d022be80"
   }
  }
 },
 "nbformat": 4,
 "nbformat_minor": 1
}
