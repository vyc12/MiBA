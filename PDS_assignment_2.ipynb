{
 "cells": [
  {
   "cell_type": "markdown",
   "metadata": {
    "id": "GPyzo4JFCwQJ"
   },
   "source": [
    "# Exercises\n",
    "\n",
    "\n",
    "\n"
   ]
  },
  {
   "cell_type": "markdown",
   "metadata": {
    "id": "Mn9AGx-SsD-p"
   },
   "source": [
    "\n",
    "\n",
    "# Exercise 1: FizzBuzz Function\n",
    "1. **Write a FizzBuzz Function**: Create a function `fizzbuzz` that takes an integer as a parameter.\n",
    "2. **Implement FizzBuzz Logic**: The function should print:\n",
    "   - \"Fizz\" for multiples of 3\n",
    "   - \"Buzz\" for multiples of 5\n",
    "   - \"FizzBuzz\" for multiples of both 3 and 5\n",
    "   - The number itself for other numbers\n",
    "3. **Call the Function**: Call the function for numbers 1 to 20.\n",
    "\n",
    "\n",
    " "
   ]
  },
  {
   "cell_type": "code",
   "execution_count": 5,
   "metadata": {
    "id": "74CzxlJ7sEir"
   },
   "outputs": [
    {
     "name": "stdout",
     "output_type": "stream",
     "text": [
      "1\n",
      "2\n",
      "Fizz\n",
      "4\n",
      "Buzz\n",
      "Fizz\n",
      "7\n",
      "8\n",
      "Fizz\n",
      "Buzz\n",
      "11\n",
      "Fizz\n",
      "13\n",
      "14\n",
      "FizzBuzz\n",
      "16\n",
      "17\n",
      "Fizz\n",
      "19\n",
      "Buzz\n"
     ]
    }
   ],
   "source": [
    "def fizzbuzz(number):\n",
    "    if number % 3 == 0 and number % 5 == 0:\n",
    "        return \"FizzBuzz\"\n",
    "    elif number % 3 == 0:\n",
    "        return \"Fizz\"\n",
    "    elif number % 5 == 0:\n",
    "        return \"Buzz\"\n",
    "    else:\n",
    "        return str(number)\n",
    "\n",
    "# Call the function for numbers 1 to 20\n",
    "for i in range(1, 21):\n",
    "    print(fizzbuzz(i))"
   ]
  },
  {
   "cell_type": "markdown",
   "metadata": {
    "id": "s22xLyTjzeGj"
   },
   "source": [
    "# Exercise 2: Basic Data Filtering\n",
    "1. **Create the List**: Create a list that contains a mix of integers, strings, and floats.\n",
    "2. **Filter the List**: Use list comprehension to create a new list that contains only the integers from the original list.\n",
    "3. **Print the New List**: Output the filtered list of integers."
   ]
  },
  {
   "cell_type": "code",
   "execution_count": 6,
   "metadata": {
    "id": "55uyjZv6ze-w"
   },
   "outputs": [
    {
     "name": "stdout",
     "output_type": "stream",
     "text": [
      "Filtered list of integers:\n",
      "[1, 42, 7, 10]\n"
     ]
    }
   ],
   "source": [
    "# 1: Create the list with a mix of data types\n",
    "mixed_list = [1, \"hello\", 3.14, 42, \"python\", 2.718, 7, \"data\", 9.8, 10]\n",
    "\n",
    "# 2: Filter the list using list comprehension\n",
    "integers_only = [item for item in mixed_list if isinstance(item, int)]\n",
    "\n",
    "# 3: Print the new list\n",
    "print(\"Filtered list of integers:\")\n",
    "print(integers_only)"
   ]
  },
  {
   "cell_type": "markdown",
   "metadata": {
    "id": "eDrD3i7OL8zv"
   },
   "source": [
    "# Exercise 3: Simple To-Do List\n",
    "\n",
    "1. **Create an Empty List**\n",
    "   - Start with an empty list called `todo_list`.\n",
    "   \n",
    "2. **Define Functions**\n",
    "   - A function `add_task(task)` that adds a task to the list.\n",
    "   - A function `show_tasks()` that prints all tasks in the list.\n",
    "\n",
    "\n"
   ]
  },
  {
   "cell_type": "code",
   "execution_count": 11,
   "metadata": {
    "colab": {
     "base_uri": "https://localhost:8080/",
     "height": 133
    },
    "id": "HMGqZbd-MNUA",
    "outputId": "8b9fd294-7203-4d5e-8fd6-6e1c8f0c0815"
   },
   "outputs": [
    {
     "name": "stdout",
     "output_type": "stream",
     "text": [
      "Task 'Buy groceries' added to the list.\n",
      "Task 'Finish homework' added to the list.\n",
      "Task 'Play tennis' added to the list.\n",
      "------------------------------\n",
      "Your To-Do List:\n",
      "1. Buy groceries\n",
      "2. Finish homework\n",
      "3. Play tennis\n"
     ]
    }
   ],
   "source": [
    "# 1. Create an empty list\n",
    "todo_list = []\n",
    "\n",
    "# 2. Define functions\n",
    "\n",
    "def add_task(task):\n",
    "    todo_list.append(task)\n",
    "    print(f\"Task '{task}' added to the list.\")\n",
    "\n",
    "def show_tasks():\n",
    "    if not todo_list:\n",
    "        print(\"Your to-do list is empty.\")\n",
    "    else:\n",
    "        print(\"Your To-Do List:\")\n",
    "        for index, task in enumerate(todo_list, start=1):\n",
    "            print(f\"{index}. {task}\")\n",
    "\n",
    "# Examples \n",
    "add_task(\"Buy groceries\")\n",
    "add_task(\"Finish homework\")\n",
    "add_task(\"Play tennis\")\n",
    "\n",
    "print(\"-\" * 30) \n",
    "show_tasks()\n"
   ]
  },
  {
   "cell_type": "markdown",
   "metadata": {
    "id": "WHr2arD4MLTZ"
   },
   "source": [
    "# Exercise 4: Temperature Converter\n",
    "\n",
    "1. **Define a Conversion Function**\n",
    "   - Write a function `celsius_to_fahrenheit(celsius)` that converts Celsius to Fahrenheit.\n",
    "   \n",
    "2. **Print the Result**\n",
    "   - Output the converted temperature for 22°C, 46°C, and 76°C."
   ]
  },
  {
   "cell_type": "code",
   "execution_count": 12,
   "metadata": {
    "id": "OwHMgXu6B6Bu"
   },
   "outputs": [
    {
     "name": "stdout",
     "output_type": "stream",
     "text": [
      "Temperature Conversion Results:\n",
      "------------------------------\n",
      "Celsius  |  Fahrenheit\n",
      "------------------------------\n",
      "     22°C |    71.6°F\n",
      "     46°C |   114.8°F\n",
      "     76°C |   168.8°F\n",
      "------------------------------\n"
     ]
    }
   ],
   "source": [
    "def celsius_to_fahrenheit(celsius):\n",
    "    fahrenheit = (celsius * 9/5) + 32\n",
    "    return round(fahrenheit, 2)  # Rounding to 2 decimal places for readability\n",
    "\n",
    "# List of temperatures to convert\n",
    "temperatures_celsius = [22, 46, 76]\n",
    "\n",
    "# Print the results\n",
    "print(\"Temperature Conversion Results:\")\n",
    "print(\"-\" * 30)\n",
    "print(\"Celsius  |  Fahrenheit\")\n",
    "print(\"-\" * 30)\n",
    "\n",
    "for temp_c in temperatures_celsius:\n",
    "    temp_f = celsius_to_fahrenheit(temp_c)\n",
    "    print(f\"{temp_c:7}°C | {temp_f:7}°F\")\n",
    "\n",
    "print(\"-\" * 30)"
   ]
  }
 ],
 "metadata": {
  "colab": {
   "name": "[IS 2021 W2] Primitive Types.ipynb",
   "provenance": []
  },
  "kernelspec": {
   "display_name": "base",
   "language": "python",
   "name": "python3"
  },
  "language_info": {
   "codemirror_mode": {
    "name": "ipython",
    "version": 3
   },
   "file_extension": ".py",
   "mimetype": "text/x-python",
   "name": "python",
   "nbconvert_exporter": "python",
   "pygments_lexer": "ipython3",
   "version": "3.12.4"
  }
 },
 "nbformat": 4,
 "nbformat_minor": 1
}
